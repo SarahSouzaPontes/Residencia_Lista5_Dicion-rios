{
  "cells": [
    {
      "cell_type": "markdown",
      "metadata": {
        "id": "view-in-github",
        "colab_type": "text"
      },
      "source": [
        "<a href=\"https://colab.research.google.com/github/SarahSouzaPontes/Residencia_Lista5_Dicion-rios/blob/main/Lista_5_Dicion%C3%A1rios.ipynb\" target=\"_parent\"><img src=\"https://colab.research.google.com/assets/colab-badge.svg\" alt=\"Open In Colab\"/></a>"
      ]
    },
    {
      "cell_type": "markdown",
      "metadata": {
        "id": "B5-GA9Hy0dHS"
      },
      "source": [
        "# Exercícios - Dicionários\n",
        "## Exercício 1"
      ]
    },
    {
      "cell_type": "markdown",
      "metadata": {
        "id": "61GHtiMyWvsO"
      },
      "source": [
        "1. Declare uma variável `cardapio`, que tem como conteúdo um **dicionário** que armazena os dados de comidas e preços, para o cardápio de um restaurante. Onde o **nome do prato é a chave** e o **valor o preço a ser pago**.\n",
        "2. Escreva 4 pratos com seus valores dentro do cardápio."
      ]
    },
    {
      "cell_type": "code",
      "execution_count": 8,
      "metadata": {
        "id": "_G8cLu_PXoBk",
        "colab": {
          "base_uri": "https://localhost:8080/"
        },
        "outputId": "769e830b-b9d7-4dab-8799-7c2c63bd48ef"
      },
      "outputs": [
        {
          "output_type": "stream",
          "name": "stdout",
          "text": [
            "{'lasanha': 'R$43.98', 'canoli': 'R$7.9', 'risoto': 'R$54.92', 'pudim': 'R$10.87'}\n"
          ]
        }
      ],
      "source": [
        "# Resolução: \n",
        "cardapio = {\n",
        "'lasanha': 'R$43.98',\n",
        "'canoli': 'R$7.9',\n",
        "'risoto': 'R$54.92',\n",
        "'pudim': 'R$10.87',\n",
        "}\n",
        "print(cardapio)"
      ]
    },
    {
      "cell_type": "markdown",
      "metadata": {
        "id": "sJ5lClY1YZKl"
      },
      "source": [
        "3. Exiba na tela todos os produtos com seus preços no seguinte formato:\n",
        "> lasanha: R$43.98"
      ]
    },
    {
      "cell_type": "code",
      "execution_count": 9,
      "metadata": {
        "colab": {
          "base_uri": "https://localhost:8080/"
        },
        "id": "scMsIFueYYtM",
        "outputId": "c6a870ab-984b-41c2-d037-e4be687e1cee"
      },
      "outputs": [
        {
          "output_type": "stream",
          "name": "stdout",
          "text": [
            "lasanha\n",
            "R$43.98\n",
            "lasanha: R$43.98\n",
            "canoli\n",
            "R$7.9\n",
            "canoli: R$7.9\n",
            "risoto\n",
            "R$54.92\n",
            "risoto: R$54.92\n",
            "pudim\n",
            "R$10.87\n",
            "pudim: R$10.87\n"
          ]
        }
      ],
      "source": [
        "# Resolução: \n",
        "\n",
        "for key in cardapio:\n",
        "  print(key)\n",
        "  print(cardapio[key])\n",
        "  print(f'{key}: {cardapio[key]}')\n",
        "#print(cardapio['lasanha'])"
      ]
    },
    {
      "cell_type": "code",
      "source": [
        "for item in cardapio:\n",
        "  print(f'{item}: R${cardapio[item]}')"
      ],
      "metadata": {
        "colab": {
          "base_uri": "https://localhost:8080/"
        },
        "id": "G5-91xYPvKR6",
        "outputId": "f3f1da95-6f1a-4033-ae92-5fe28fabee4e"
      },
      "execution_count": 10,
      "outputs": [
        {
          "output_type": "stream",
          "name": "stdout",
          "text": [
            "lasanha: R$R$43.98\n",
            "canoli: R$R$7.9\n",
            "risoto: R$R$54.92\n",
            "pudim: R$R$10.87\n"
          ]
        }
      ]
    },
    {
      "cell_type": "markdown",
      "metadata": {
        "id": "648diY-0ZcNw"
      },
      "source": [
        "4. Adicione mais 2 produtos da sua escolha ao `cardapio`\n",
        "5. Utilize o mesmo formato anterior para mostrar todos os items do cardápio na tela"
      ]
    },
    {
      "cell_type": "code",
      "execution_count": 15,
      "metadata": {
        "colab": {
          "base_uri": "https://localhost:8080/"
        },
        "id": "0gby_UdyZ-Lr",
        "outputId": "95c58680-b93d-49ae-b3f0-8b06676f883f"
      },
      "outputs": [
        {
          "output_type": "stream",
          "name": "stdout",
          "text": [
            "lasanha: R$R$43.98\n",
            "canoli: R$R$7.9\n",
            "risoto: R$R$54.92\n",
            "pudim: R$R$10.87\n",
            "brigadeiro: R$R$10,00\n",
            "suco: R$R$ 20,00\n"
          ]
        }
      ],
      "source": [
        "# Resolução: \n",
        "cardapio['brigadeiro'] = 'R$10,00'\n",
        "cardapio['suco'] = 'R$ 20,00'\n",
        "\n",
        "\n",
        "for item in cardapio:\n",
        "  print(f'{item}: R${cardapio[item]}')"
      ]
    },
    {
      "cell_type": "markdown",
      "metadata": {
        "id": "Ii8UbCzzacQz"
      },
      "source": [
        "## Exercício 2\n",
        "\n"
      ]
    },
    {
      "cell_type": "markdown",
      "metadata": {
        "id": "MNiARYKfU6Jz"
      },
      "source": [
        "1. Crie um dicionário que armazena dados para cada produto, com os seguintes campos:\n",
        "- Nome (String)\n",
        "- Tipo (Número)\n",
        "- Preço (Número)\n",
        "2. Declare 3 produtos da sua escolha usando esse formato de dicionário.\n",
        "3. Esses produtos precisam estar em uma lista.\n"
      ]
    },
    {
      "cell_type": "code",
      "execution_count": 23,
      "metadata": {
        "id": "x3eCPkFGVB1o",
        "colab": {
          "base_uri": "https://localhost:8080/"
        },
        "outputId": "174eb9b3-bc39-4e4c-8634-237abd031337"
      },
      "outputs": [
        {
          "output_type": "stream",
          "name": "stdout",
          "text": [
            "[{'nome': 'livro1', 'tipo': 12, 'preço': 20.0}, {'nome': 'livro2', 'tipo': 10, 'preço': 30.0}, {'nome': 'livro3', 'tipo': 14, 'preço': 40.0}]\n"
          ]
        }
      ],
      "source": [
        "# Resolução: \n",
        "livroA = {\n",
        "   'nome': 'livro1',\n",
        "   'tipo': 12,\n",
        "   'preço': 20.00,\n",
        "}\n",
        "\n",
        "livroB = {\n",
        "   'nome': 'livro2',\n",
        "   'tipo': 10,\n",
        "   'preço': 30.00,\n",
        "}\n",
        "\n",
        "livroC = {\n",
        "  'nome': 'livro3',\n",
        "   'tipo': 14,\n",
        "   'preço': 40.00,\n",
        "}\n",
        "\n",
        "lista= [livroA, livroB, livroC]\n",
        "print(lista)"
      ]
    },
    {
      "cell_type": "code",
      "source": [
        "lista = [\n",
        "\n",
        "{\n",
        "   'nome': 'livro1',\n",
        "   'tipo': 12,\n",
        "   'preço': 20.00,\n",
        "},\n",
        "\n",
        "{\n",
        "   'nome': 'livro2',\n",
        "   'tipo': 10,\n",
        "   'preço': 30.00,\n",
        "},\n",
        "\n",
        "{\n",
        "  'nome': 'livro3',\n",
        "   'tipo': 14,\n",
        "   'preço': 40.00,\n",
        "},\n",
        "]\n",
        "print(lista)"
      ],
      "metadata": {
        "colab": {
          "base_uri": "https://localhost:8080/"
        },
        "id": "PkX-tlqFgfza",
        "outputId": "d463e886-a61a-4e06-fd0a-1549aaf976b8"
      },
      "execution_count": 24,
      "outputs": [
        {
          "output_type": "stream",
          "name": "stdout",
          "text": [
            "[{'nome': 'livro1', 'tipo': 12, 'preço': 20.0}, {'nome': 'livro2', 'tipo': 10, 'preço': 30.0}, {'nome': 'livro3', 'tipo': 14, 'preço': 40.0}]\n"
          ]
        }
      ]
    },
    {
      "cell_type": "markdown",
      "metadata": {
        "id": "4iFdxqJbVFum"
      },
      "source": [
        "4. Precisamos agora **adicionar 2 produtos** nessa lista: \n",
        "- Mouse Gamer, 2 (tipo), R\\$56,00\n",
        "- Mouse Pad, 2 (tipo), R$32,90\n",
        "5. Percebemos que esses produtos não tem um identificador único. **Adicione uma propriedade** chamada `código` em **cada produto**, passando um número maior que 100, que seja único, ou seja, não se repita.\n",
        "> Dica: Você pode usar um loop!"
      ]
    },
    {
      "cell_type": "code",
      "execution_count": 25,
      "metadata": {
        "id": "lbKgwJGdVFNh",
        "colab": {
          "base_uri": "https://localhost:8080/"
        },
        "outputId": "65c3c437-e67b-4f79-f509-f158444530d6"
      },
      "outputs": [
        {
          "output_type": "stream",
          "name": "stdout",
          "text": [
            "[{'nome': 'livro1', 'tipo': 12, 'preço': 20.0}, {'nome': 'livro2', 'tipo': 10, 'preço': 30.0}, {'nome': 'livro3', 'tipo': 14, 'preço': 40.0}, {'nome': 'Mouse_Gamer', 'tipo': 2, 'preço': 56.0}, {'nome': 'Mouse_Pad', 'tipo': 2, 'valor': 32.9}]\n"
          ]
        }
      ],
      "source": [
        "# Resolução: \n",
        "novos_itens1= {\n",
        "    'nome': 'Mouse_Gamer',\n",
        "    'tipo': 2,\n",
        "    'preço': 56.00\n",
        "}\n",
        "novos_itens2={\n",
        "    'nome': 'Mouse_Pad',\n",
        "    'tipo': 2,\n",
        "    'valor': 32.90,\n",
        "}\n",
        "lista.append(novos_itens1)\n",
        "lista.append(novos_itens2)\n",
        "print(lista)"
      ]
    },
    {
      "cell_type": "markdown",
      "metadata": {
        "id": "UHzUwRSWVumd"
      },
      "source": [
        "5. Descobrimos que o melhor jeito de guardar as informações não é em listas, mas em um **dicionário de dicionários**, onde a **chave é o código do produto**. Usando loops faça essa **transformação até ficar no seguinte formato:**\n",
        "\n",
        "```py\n",
        "produtos = {\n",
        "    100: {\n",
        "        \"nome\": \"Suporte de monitor\",\n",
        "        \"tipo\": 1,\n",
        "        \"preço\": 54.98\n",
        "    }\n",
        "}\n",
        "```\n",
        "\n"
      ]
    },
    {
      "cell_type": "code",
      "execution_count": 26,
      "metadata": {
        "id": "fCZHUOF6WeJV",
        "colab": {
          "base_uri": "https://localhost:8080/"
        },
        "outputId": "54f91e1b-4627-4442-8f81-0febd2d1d2b6"
      },
      "outputs": [
        {
          "output_type": "stream",
          "name": "stdout",
          "text": [
            "{100: {'nome': 'livro1', 'tipo': 12, 'preço': 20.0}, 101: {'nome': 'livro2', 'tipo': 10, 'preço': 30.0}, 102: {'nome': 'livro3', 'tipo': 14, 'preço': 40.0}, 103: {'nome': 'Mouse_Gamer', 'tipo': 2, 'preço': 56.0}, 104: {'nome': 'Mouse_Pad', 'tipo': 2, 'valor': 32.9}}\n"
          ]
        }
      ],
      "source": [
        "# Resolução: \n",
        "novos_produtos = {}\n",
        "codigo = 100\n",
        "\n",
        "for prod in lista:\n",
        "  cod = codigo\n",
        "  novos_produtos[cod] = prod\n",
        "  codigo = codigo +1\n",
        "\n",
        "print(novos_produtos)"
      ]
    },
    {
      "cell_type": "markdown",
      "metadata": {
        "id": "sPBsoiU3WQBF"
      },
      "source": [
        "6. Escreva uma função `desconto` que recebe um dicionário de produtos como argumento. \n",
        "    - Essa função deve **alterar os preços de cada produto** para **20% mais baratos**, caso o **código** do produto seja **ímpar**.\n",
        "7. Chame a função passando o dicionário e exiba os produtos com os novos preços na tela.\n"
      ]
    },
    {
      "cell_type": "code",
      "execution_count": 27,
      "metadata": {
        "id": "Bqh91ZEzVuP6",
        "colab": {
          "base_uri": "https://localhost:8080/"
        },
        "outputId": "4e249750-67d9-405f-cc81-39d876f2bbd5"
      },
      "outputs": [
        {
          "output_type": "execute_result",
          "data": {
            "text/plain": [
              "{100: {'nome': 'livro1', 'tipo': 12, 'preço': 20.0},\n",
              " 101: {'nome': 'livro2', 'tipo': 10, 'preço': 24.0},\n",
              " 102: {'nome': 'livro3', 'tipo': 14, 'preço': 40.0},\n",
              " 103: {'nome': 'Mouse_Gamer', 'tipo': 2, 'preço': 44.8},\n",
              " 104: {'nome': 'Mouse_Pad', 'tipo': 2, 'valor': 32.9}}"
            ]
          },
          "metadata": {},
          "execution_count": 27
        }
      ],
      "source": [
        "# Resolução: \n",
        "def desconto (prodt):\n",
        "  for prod in novos_produtos.keys():\n",
        "    if(prod % 2 != 0):\n",
        "      valor = novos_produtos[prod]['preço']\n",
        "      novos_produtos[prod]['preço'] = valor - (.2 *valor)\n",
        "\n",
        "desconto(novos_produtos)\n",
        "\n",
        "novos_produtos\n",
        "\n"
      ]
    }
  ],
  "metadata": {
    "colab": {
      "provenance": [],
      "include_colab_link": true
    },
    "kernelspec": {
      "display_name": "Python 3",
      "name": "python3"
    },
    "language_info": {
      "name": "python"
    }
  },
  "nbformat": 4,
  "nbformat_minor": 0
}